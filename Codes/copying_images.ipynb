{
 "cells": [
  {
   "cell_type": "code",
   "execution_count": 1,
   "metadata": {},
   "outputs": [],
   "source": [
    "import glob\n",
    "import shutil\n",
    "import os\n",
    "\n",
    "src_dir = \"Dataset/PCBData/group00041/00041\"\n",
    "dst_dir = \"Dataset/PCBData/group00041/images\"\n",
    "\n",
    "for jpgfile in glob.iglob(os.path.join(src_dir, \"*_test.jpg\")):\n",
    "    shutil.copy(jpgfile, dst_dir)"
   ]
  }
 ],
 "metadata": {
  "kernelspec": {
   "display_name": "Python 3.9.6 64-bit",
   "language": "python",
   "name": "python3"
  },
  "language_info": {
   "codemirror_mode": {
    "name": "ipython",
    "version": 3
   },
   "file_extension": ".py",
   "mimetype": "text/x-python",
   "name": "python",
   "nbconvert_exporter": "python",
   "pygments_lexer": "ipython3",
   "version": "3.9.6"
  },
  "orig_nbformat": 4,
  "vscode": {
   "interpreter": {
    "hash": "b290fd36fdd38dd44a5cfaaa7315fce87515b46c77216e763a543f6776180b53"
   }
  }
 },
 "nbformat": 4,
 "nbformat_minor": 2
}
