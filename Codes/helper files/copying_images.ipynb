{
 "cells": [
  {
   "cell_type": "code",
   "execution_count": 2,
   "metadata": {},
   "outputs": [],
   "source": [
    "import glob\n",
    "import shutil\n",
    "import os\n",
    "\n",
    "folder_names = [12000, 12100, 12300, 13000, 20085, 44000, 50600, 77000, 90100, 92000]\n",
    "\n",
    "for folder_name in folder_names:\n",
    "    src_dir = f\"Dataset/PCBData/group{folder_name}/{folder_name}\"\n",
    "    dst_dir = f\"Dataset/PCBData/group{folder_name}/images\"\n",
    "    for jpgfile in glob.iglob(os.path.join(src_dir, \"*_test.jpg\")):\n",
    "        shutil.copy(jpgfile, dst_dir)"
   ]
  },
  {
   "cell_type": "code",
   "execution_count": null,
   "metadata": {},
   "outputs": [],
   "source": []
  }
 ],
 "metadata": {
  "kernelspec": {
   "display_name": "Python 3.9.11 64-bit",
   "language": "python",
   "name": "python3"
  },
  "language_info": {
   "codemirror_mode": {
    "name": "ipython",
    "version": 3
   },
   "file_extension": ".py",
   "mimetype": "text/x-python",
   "name": "python",
   "nbconvert_exporter": "python",
   "pygments_lexer": "ipython3",
   "version": "3.9.11"
  },
  "orig_nbformat": 4,
  "vscode": {
   "interpreter": {
    "hash": "aee8b7b246df8f9039afb4144a1f6fd8d2ca17a180786b69acc140d282b71a49"
   }
  }
 },
 "nbformat": 4,
 "nbformat_minor": 2
}
