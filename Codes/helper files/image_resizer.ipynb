{
 "cells": [
  {
   "cell_type": "code",
   "execution_count": 1,
   "metadata": {},
   "outputs": [
    {
     "data": {
      "text/plain": [
       "'Image Resizer'"
      ]
     },
     "execution_count": 1,
     "metadata": {},
     "output_type": "execute_result"
    }
   ],
   "source": [
    "'''Image Resizer'''\n",
    "'''\n",
    "Now after we download the dataset, we can see the dimension of each image is 640x640.\n",
    "It will be better if we reduce the dimension of them so that it will be easy for training the data,\n",
    "but to make sure the quality of the image didn’t get affected, we will compress the image using\n",
    "the Anti-Aliasing technique.\n",
    "'''"
   ]
  },
  {
   "cell_type": "code",
   "execution_count": 3,
   "metadata": {},
   "outputs": [],
   "source": [
    "from PIL import Image                     #install this library, if it is not there.\n",
    "import os, sys\n",
    "\n",
    "path = r\"G:\\Keivalya\\Internships\\IITD-AIA FSM 2022\\FSM-INT-2022\\Codes\\Dataset\\PCBData\\group00041\\00041//\"         #put folder path inside \"\" and put // after the folder name, in the exact same format.\n",
    "dirs = os.listdir( path )\n",
    "\n",
    "\n",
    "def resize():\n",
    "    for item in dirs:\n",
    "        if os.path.isfile(path+item):\n",
    "            im = Image.open(path+item)\n",
    "            f, e = os.path.splitext(path+item)\n",
    "            imResize = im.resize((128,128), Image.ANTIALIAS)               #set the resizing dimension.  \n",
    "            imResize.save(f + '_resized.jpeg', 'jpeg', quality=100)         #set the 'prefix' and the 'format' of the resulting image.                        \n",
    "\n",
    "resize()                                                                   #Now check the folder."
   ]
  },
  {
   "cell_type": "code",
   "execution_count": 4,
   "metadata": {},
   "outputs": [],
   "source": [
    "path = r\"G:\\Keivalya\\Internships\\IITD-AIA FSM 2022\\FSM-INT-2022\\Codes\\Dataset\\PCBData\\group12000\\12000//\"         #put folder path inside \"\" and put // after the folder name, in the exact same format.\n",
    "dirs = os.listdir( path )\n",
    "\n",
    "\n",
    "def resize():\n",
    "    for item in dirs:\n",
    "        if os.path.isfile(path+item):\n",
    "            im = Image.open(path+item)\n",
    "            f, e = os.path.splitext(path+item)\n",
    "            imResize = im.resize((128,128), Image.ANTIALIAS)               #set the resizing dimension.  \n",
    "            imResize.save(f + '_resized.jpeg', 'jpeg', quality=100)         #set the 'prefix' and the 'format' of the resulting image.                        \n",
    "\n",
    "resize()                                                                   #Now check the folder."
   ]
  },
  {
   "cell_type": "code",
   "execution_count": 5,
   "metadata": {},
   "outputs": [],
   "source": [
    "path = r\"G:\\Keivalya\\Internships\\IITD-AIA FSM 2022\\FSM-INT-2022\\Codes\\Dataset\\PCBData\\group12100\\12100//\"         #put folder path inside \"\" and put // after the folder name, in the exact same format.\n",
    "dirs = os.listdir( path )\n",
    "\n",
    "\n",
    "def resize():\n",
    "    for item in dirs:\n",
    "        if os.path.isfile(path+item):\n",
    "            im = Image.open(path+item)\n",
    "            f, e = os.path.splitext(path+item)\n",
    "            imResize = im.resize((128,128), Image.ANTIALIAS)               #set the resizing dimension.  \n",
    "            imResize.save(f + '_resized.jpeg', 'jpeg', quality=100)         #set the 'prefix' and the 'format' of the resulting image.                        \n",
    "\n",
    "resize()                                                                   #Now check the folder."
   ]
  },
  {
   "cell_type": "code",
   "execution_count": 6,
   "metadata": {},
   "outputs": [],
   "source": [
    "path = r\"G:\\Keivalya\\Internships\\IITD-AIA FSM 2022\\FSM-INT-2022\\Codes\\Dataset\\PCBData\\group12300\\12300//\"         #put folder path inside \"\" and put // after the folder name, in the exact same format.\n",
    "dirs = os.listdir( path )\n",
    "\n",
    "\n",
    "def resize():\n",
    "    for item in dirs:\n",
    "        if os.path.isfile(path+item):\n",
    "            im = Image.open(path+item)\n",
    "            f, e = os.path.splitext(path+item)\n",
    "            imResize = im.resize((128,128), Image.ANTIALIAS)               #set the resizing dimension.  \n",
    "            imResize.save(f + '_resized.jpeg', 'jpeg', quality=100)         #set the 'prefix' and the 'format' of the resulting image.                        \n",
    "\n",
    "resize()                                                                   #Now check the folder."
   ]
  },
  {
   "cell_type": "code",
   "execution_count": 7,
   "metadata": {},
   "outputs": [],
   "source": [
    "path = r\"G:\\Keivalya\\Internships\\IITD-AIA FSM 2022\\FSM-INT-2022\\Codes\\Dataset\\PCBData\\group13000\\13000//\"         #put folder path inside \"\" and put // after the folder name, in the exact same format.\n",
    "dirs = os.listdir( path )\n",
    "\n",
    "\n",
    "def resize():\n",
    "    for item in dirs:\n",
    "        if os.path.isfile(path+item):\n",
    "            im = Image.open(path+item)\n",
    "            f, e = os.path.splitext(path+item)\n",
    "            imResize = im.resize((128,128), Image.ANTIALIAS)               #set the resizing dimension.  \n",
    "            imResize.save(f + '_resized.jpeg', 'jpeg', quality=100)         #set the 'prefix' and the 'format' of the resulting image.                        \n",
    "\n",
    "resize()                                                                   #Now check the folder."
   ]
  },
  {
   "cell_type": "code",
   "execution_count": 8,
   "metadata": {},
   "outputs": [],
   "source": [
    "path = r\"G:\\Keivalya\\Internships\\IITD-AIA FSM 2022\\FSM-INT-2022\\Codes\\Dataset\\PCBData\\group20085\\20085//\"         #put folder path inside \"\" and put // after the folder name, in the exact same format.\n",
    "dirs = os.listdir( path )\n",
    "\n",
    "\n",
    "def resize():\n",
    "    for item in dirs:\n",
    "        if os.path.isfile(path+item):\n",
    "            im = Image.open(path+item)\n",
    "            f, e = os.path.splitext(path+item)\n",
    "            imResize = im.resize((128,128), Image.ANTIALIAS)               #set the resizing dimension.  \n",
    "            imResize.save(f + '_resized.jpeg', 'jpeg', quality=100)         #set the 'prefix' and the 'format' of the resulting image.                        \n",
    "\n",
    "resize()                                                                   #Now check the folder."
   ]
  },
  {
   "cell_type": "code",
   "execution_count": 9,
   "metadata": {},
   "outputs": [],
   "source": [
    "path = r\"G:\\Keivalya\\Internships\\IITD-AIA FSM 2022\\FSM-INT-2022\\Codes\\Dataset\\PCBData\\group44000\\44000//\"         #put folder path inside \"\" and put // after the folder name, in the exact same format.\n",
    "dirs = os.listdir( path )\n",
    "\n",
    "\n",
    "def resize():\n",
    "    for item in dirs:\n",
    "        if os.path.isfile(path+item):\n",
    "            im = Image.open(path+item)\n",
    "            f, e = os.path.splitext(path+item)\n",
    "            imResize = im.resize((128,128), Image.ANTIALIAS)               #set the resizing dimension.  \n",
    "            imResize.save(f + '_resized.jpeg', 'jpeg', quality=100)         #set the 'prefix' and the 'format' of the resulting image.                        \n",
    "\n",
    "resize()                                                                   #Now check the folder."
   ]
  },
  {
   "cell_type": "code",
   "execution_count": 10,
   "metadata": {},
   "outputs": [],
   "source": [
    "path = r\"G:\\Keivalya\\Internships\\IITD-AIA FSM 2022\\FSM-INT-2022\\Codes\\Dataset\\PCBData\\group50600\\50600//\"         #put folder path inside \"\" and put // after the folder name, in the exact same format.\n",
    "dirs = os.listdir( path )\n",
    "\n",
    "\n",
    "def resize():\n",
    "    for item in dirs:\n",
    "        if os.path.isfile(path+item):\n",
    "            im = Image.open(path+item)\n",
    "            f, e = os.path.splitext(path+item)\n",
    "            imResize = im.resize((128,128), Image.ANTIALIAS)               #set the resizing dimension.  \n",
    "            imResize.save(f + '_resized.jpeg', 'jpeg', quality=100)         #set the 'prefix' and the 'format' of the resulting image.                        \n",
    "\n",
    "resize()                                                                   #Now check the folder."
   ]
  },
  {
   "cell_type": "code",
   "execution_count": 11,
   "metadata": {},
   "outputs": [],
   "source": [
    "path = r\"G:\\Keivalya\\Internships\\IITD-AIA FSM 2022\\FSM-INT-2022\\Codes\\Dataset\\PCBData\\group77000\\77000//\"         #put folder path inside \"\" and put // after the folder name, in the exact same format.\n",
    "dirs = os.listdir( path )\n",
    "\n",
    "\n",
    "def resize():\n",
    "    for item in dirs:\n",
    "        if os.path.isfile(path+item):\n",
    "            im = Image.open(path+item)\n",
    "            f, e = os.path.splitext(path+item)\n",
    "            imResize = im.resize((128,128), Image.ANTIALIAS)               #set the resizing dimension.  \n",
    "            imResize.save(f + '_resized.jpeg', 'jpeg', quality=100)         #set the 'prefix' and the 'format' of the resulting image.                        \n",
    "\n",
    "resize()                                                                   #Now check the folder."
   ]
  },
  {
   "cell_type": "code",
   "execution_count": 12,
   "metadata": {},
   "outputs": [],
   "source": [
    "path = r\"G:\\Keivalya\\Internships\\IITD-AIA FSM 2022\\FSM-INT-2022\\Codes\\Dataset\\PCBData\\group90100\\90100//\"         #put folder path inside \"\" and put // after the folder name, in the exact same format.\n",
    "dirs = os.listdir( path )\n",
    "\n",
    "\n",
    "def resize():\n",
    "    for item in dirs:\n",
    "        if os.path.isfile(path+item):\n",
    "            im = Image.open(path+item)\n",
    "            f, e = os.path.splitext(path+item)\n",
    "            imResize = im.resize((128,128), Image.ANTIALIAS)               #set the resizing dimension.  \n",
    "            imResize.save(f + '_resized.jpeg', 'jpeg', quality=100)         #set the 'prefix' and the 'format' of the resulting image.                        \n",
    "\n",
    "resize()                                                                   #Now check the folder."
   ]
  },
  {
   "cell_type": "code",
   "execution_count": 13,
   "metadata": {},
   "outputs": [],
   "source": [
    "path = r\"G:\\Keivalya\\Internships\\IITD-AIA FSM 2022\\FSM-INT-2022\\Codes\\Dataset\\PCBData\\group92000\\92000//\"         #put folder path inside \"\" and put // after the folder name, in the exact same format.\n",
    "dirs = os.listdir( path )\n",
    "\n",
    "\n",
    "def resize():\n",
    "    for item in dirs:\n",
    "        if os.path.isfile(path+item):\n",
    "            im = Image.open(path+item)\n",
    "            f, e = os.path.splitext(path+item)\n",
    "            imResize = im.resize((128,128), Image.ANTIALIAS)               #set the resizing dimension.  \n",
    "            imResize.save(f + '_resized.jpeg', 'jpeg', quality=100)         #set the 'prefix' and the 'format' of the resulting image.                        \n",
    "\n",
    "resize()                                                                   #Now check the folder."
   ]
  },
  {
   "cell_type": "code",
   "execution_count": null,
   "metadata": {},
   "outputs": [],
   "source": []
  }
 ],
 "metadata": {
  "interpreter": {
   "hash": "b290fd36fdd38dd44a5cfaaa7315fce87515b46c77216e763a543f6776180b53"
  },
  "kernelspec": {
   "display_name": "Python 3.9.6 64-bit",
   "language": "python",
   "name": "python3"
  },
  "language_info": {
   "codemirror_mode": {
    "name": "ipython",
    "version": 3
   },
   "file_extension": ".py",
   "mimetype": "text/x-python",
   "name": "python",
   "nbconvert_exporter": "python",
   "pygments_lexer": "ipython3",
   "version": "3.9.6"
  },
  "orig_nbformat": 4
 },
 "nbformat": 4,
 "nbformat_minor": 2
}
