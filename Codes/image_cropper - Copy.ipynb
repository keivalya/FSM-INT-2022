{
 "cells": [
  {
   "cell_type": "code",
   "execution_count": null,
   "metadata": {},
   "outputs": [],
   "source": [
    "\"\"\"Image Cropper\"\"\""
   ]
  },
  {
   "cell_type": "code",
   "execution_count": null,
   "metadata": {},
   "outputs": [],
   "source": [
    "from PIL import Image\n",
    "import os, sys\n",
    "\n",
    "# reading a file\n",
    "notation_file_path = r\"Dataset\\PCBData\\group00041\\00041_not//\"\n",
    "notation_file_dirs = os.listdir(notation_file_path)\n",
    "# f = open(file1)\n",
    "# lines = f.readlines()\n",
    "\n",
    "image_file_path = r\"Dataset\\PCBData\\group00041\\00041//\"\n",
    "image_file_dirs = os.listdir(image_file_path)\n",
    "\n",
    "# for line in lines:\n",
    "#     # x1,y1,x2,y2,anno = [int(s) for s in f.readline().split()]\n",
    "#     x1,y1,x2,y2,anno = [int(s) for s in line.strip().split()]\n",
    "#     print(line.strip())\n",
    "\n",
    "list_of_imgs = []\n",
    "name_of_files = []\n",
    "# for item in notation_file_dirs:\n",
    "#     if os.path.isfile(image_file_path+item):\n",
    "for imag in image_file_dirs:\n",
    "    if os.path.isfile(image_file_path+imag):\n",
    "        # im = Image.open(image_file_path+imag)\n",
    "        f,e = os.path.splitext(image_file_path+imag)\n",
    "        f = f.split(\"//\")[-1].split(\"_\")[0]\n",
    "        print(f)\n",
    "        # list_of_imgs.append(f)\n",
    "        # for i in list_of_imgs:\n",
    "        #     i = i.split(\"_\")\n",
    "        #     name_of_files.append(i[0])\n",
    "\n",
    "# print(list(set(list_of_imgs)))\n",
    "\n",
    "for notation_file in notation_file_dirs:\n",
    "    if os.path.isfile(notation_file_path+notation_file):\n",
    "        f,e = os.path.splitext(notation_file_path+notation_file)\n",
    "        f = f.split(\"//\")[-1].split(\"_\")[0]\n",
    "        # print(f)\n",
    "\n",
    "# for item in dirs:\n",
    "#         if os.path.isfile(path+item):\n",
    "#             for file in not_files:\n",
    "#                 if os.path.isfile(not_path+file):\n",
    "\n",
    "# image_file = r\"Dataset\\PCBData\\group00041\\00041//\"\n",
    "# item_img = r\"00041000_test.jpg\"\n",
    "# im = Image.open(image_file+item_img)\n",
    "# f,e = os.path.split(image_file+item_img)\n",
    "# cropim = im.crop((x1,y1,x2,y2))\n",
    "# cropim.save(f+\"_cropped.jpeg\",\"jpeg\")"
   ]
  },
  {
   "cell_type": "code",
   "execution_count": null,
   "metadata": {},
   "outputs": [],
   "source": [
    "from PIL import Image                              #install this library, if it is not there.     \n",
    "import os, sys\n",
    "\n",
    "path = r\"Codes\\Dataset\\PCBData\\group00041\\00041//\"                  #put folder path inside \"\" and put // after the folder name, in the exact same format.\n",
    "dirs = os.listdir( path )\n",
    "\n",
    "not_path = r\"Codes\\Dataset\\PCBData\\group00041\\00041_not//\"\n",
    "not_files = os.listdir(not_path)\n",
    "\n",
    "def crop():\n",
    "    for item in dirs:\n",
    "        if os.path.isfile(path+item):\n",
    "            for file in not_files:\n",
    "                if os.path.isfile(not_path+file):\n",
    "                    im = Image.open(path+item)                  #Note:- if you are aware of cartesian plane, imagine the image is in 4th quadrant with it's origin on top left corner. \n",
    "                    nf, ne = os.path.splitext(not_path+file)\n",
    "                    f, e = os.path.splitext(path+item)          \n",
    "                    crop = im.crop((0,0,100,100))               #im.crop((left, top, right, bottom))\n",
    "                    crop.save(f + '_prefix.jpeg', \"jpeg\")       #set the 'prefix' and the 'format' of the resulting image.\n",
    "\n",
    "crop()                                                  #Now check the folder."
   ]
  }
 ],
 "metadata": {
  "kernelspec": {
   "display_name": "Python 3.9.6 64-bit",
   "language": "python",
   "name": "python3"
  },
  "language_info": {
   "codemirror_mode": {
    "name": "ipython",
    "version": 3
   },
   "file_extension": ".py",
   "mimetype": "text/x-python",
   "name": "python",
   "nbconvert_exporter": "python",
   "pygments_lexer": "ipython3",
   "version": "3.9.6"
  },
  "orig_nbformat": 4,
  "vscode": {
   "interpreter": {
    "hash": "b290fd36fdd38dd44a5cfaaa7315fce87515b46c77216e763a543f6776180b53"
   }
  }
 },
 "nbformat": 4,
 "nbformat_minor": 2
}
